{
 "cells": [
  {
   "cell_type": "markdown",
   "metadata": {},
   "source": [
    "# Write a Python Program(with class concepts) to find the area of the triangle using the below formula. area = (s*(s-a)*(s-b)*(s-c)) ** 0.5"
   ]
  },
  {
   "cell_type": "code",
   "execution_count": 1,
   "metadata": {},
   "outputs": [],
   "source": [
    "class Parent():\n",
    "    \n",
    "    def user_input(self):\n",
    "        print(\"Enter the sides of triangle : \")\n",
    "        self.a = float(input(\"Enter a: \"))\n",
    "        self.b = float(input(\"Enter b: \"))\n",
    "        self.c = float(input(\"Enter c: \"))\n",
    "    \n",
    "class Subclass(Parent):\n",
    "    \n",
    "    def __init__(self):\n",
    "        Parent.__init__(self)\n",
    "        self.area = 0\n",
    "    \n",
    "    def area_tri(self):\n",
    "        s = (self.a + self.b + self.c)/2 \n",
    "        self.area = (s * (s-self.a)* (s-self.b)* (s-self.c)) ** 0.5\n",
    "        return self.area\n"
   ]
  },
  {
   "cell_type": "code",
   "execution_count": 2,
   "metadata": {},
   "outputs": [
    {
     "name": "stdout",
     "output_type": "stream",
     "text": [
      "Enter the sides of triangle : \n",
      "Enter a: 3\n",
      "Enter b: 4\n",
      "Enter c: 5\n",
      "Area of Triangle :  6.0\n"
     ]
    }
   ],
   "source": [
    "obj = Subclass()\n",
    "obj.user_input()\n",
    "tri_area = obj.area_tri()\n",
    "print(\"Area of Triangle : \", tri_area)"
   ]
  },
  {
   "cell_type": "markdown",
   "metadata": {},
   "source": [
    "### Write a function filter_long_words() that takes a list of words and an integer n and returns the list of words that are longer than n."
   ]
  },
  {
   "cell_type": "code",
   "execution_count": 3,
   "metadata": {},
   "outputs": [],
   "source": [
    "def filter_long_words(words, n):\n",
    "    output = []\n",
    "    for word in words:\n",
    "        if len(word) > n:\n",
    "            output.append(word)\n",
    "    return output"
   ]
  },
  {
   "cell_type": "code",
   "execution_count": 4,
   "metadata": {},
   "outputs": [
    {
     "name": "stdout",
     "output_type": "stream",
     "text": [
      "['abc', 'abcd', 'abcde']\n"
     ]
    }
   ],
   "source": [
    "ans = filter_long_words([\"a\", \"ab\", \"abc\", \"abcd\", \"abcde\"], 2)\n",
    "print(ans)"
   ]
  },
  {
   "cell_type": "markdown",
   "metadata": {},
   "source": [
    "# Write a Python program using function concept that maps list of words into a list of integers representing the lengths of the corresponding words."
   ]
  },
  {
   "cell_type": "code",
   "execution_count": 5,
   "metadata": {},
   "outputs": [],
   "source": [
    "def words_to_len(words):\n",
    "    output = []\n",
    "    for word in words:\n",
    "        output.append(len(word))\n",
    "    return output"
   ]
  },
  {
   "cell_type": "code",
   "execution_count": 6,
   "metadata": {},
   "outputs": [
    {
     "name": "stdout",
     "output_type": "stream",
     "text": [
      "[3, 4, 1, 9, 0]\n"
     ]
    }
   ],
   "source": [
    "lens = words_to_len([\"Jay\", \"ABCD\", \"A\", \"FLSHRNIMD\", \"\"])\n",
    "print(lens)"
   ]
  },
  {
   "cell_type": "markdown",
   "metadata": {},
   "source": [
    "# Write a Python function which takes a character (i.e. a string of length 1) and returns True if it is a vowel, False otherwise."
   ]
  },
  {
   "cell_type": "code",
   "execution_count": 7,
   "metadata": {},
   "outputs": [],
   "source": [
    "def is_vowel(char):\n",
    "    if char.lower() in ['a', 'e', 'i', 'o', 'u']:\n",
    "        return True\n",
    "    else:\n",
    "        return False\n"
   ]
  },
  {
   "cell_type": "code",
   "execution_count": 8,
   "metadata": {},
   "outputs": [
    {
     "name": "stdout",
     "output_type": "stream",
     "text": [
      "True\n",
      "False\n"
     ]
    }
   ],
   "source": [
    "val = is_vowel('A')\n",
    "print(val)\n",
    "val = is_vowel('k')\n",
    "print(val)"
   ]
  }
 ],
 "metadata": {
  "kernelspec": {
   "display_name": "Python 3",
   "language": "python",
   "name": "python3"
  },
  "language_info": {
   "codemirror_mode": {
    "name": "ipython",
    "version": 3
   },
   "file_extension": ".py",
   "mimetype": "text/x-python",
   "name": "python",
   "nbconvert_exporter": "python",
   "pygments_lexer": "ipython3",
   "version": "3.7.1"
  }
 },
 "nbformat": 4,
 "nbformat_minor": 2
}
